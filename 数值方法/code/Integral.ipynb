{
 "cells": [
  {
   "cell_type": "markdown",
   "metadata": {},
   "source": [
    "### 基于分段多项式插值的公式"
   ]
  },
  {
   "cell_type": "code",
   "execution_count": 7,
   "metadata": {},
   "outputs": [
    {
     "name": "stdout",
     "output_type": "stream",
     "text": [
      "2.52208843618528\n"
     ]
    }
   ],
   "source": [
    "import math\n",
    "def integral(f, a, b):\n",
    "    h = 1 / 10000\n",
    "    n = int((b - a) / h)\n",
    "    S = [f(a + i * h)  for i in range(n)]\n",
    "    S = S[0] + S[-1] + sum(S[1:-1]) * 2\n",
    "    return S * (h / 2)\n",
    "\n",
    "def f(x):\n",
    "    return math.exp(x) * math.cos(x)\n",
    "\n",
    "def f1(x):\n",
    "    return math.sqrt((2 + x) / (1 - x**2))\n",
    "print(integral(f1, 0, 1))"
   ]
  },
  {
   "cell_type": "markdown",
   "metadata": {},
   "source": [
    "### Guass公式"
   ]
  },
  {
   "cell_type": "code",
   "execution_count": 8,
   "metadata": {},
   "outputs": [
    {
     "name": "stdout",
     "output_type": "stream",
     "text": [
      "2.52208843618528\n"
     ]
    }
   ],
   "source": [
    "import math\n",
    "def gauss(f, n):\n",
    "    # 基于Gauss-Legendre节点和系数\n",
    "    # 在-1到1上时\n",
    "    return f(-1 / math.sqrt(3)) + f(1 / math.sqrt(3))\n",
    "def f(x):\n",
    "    return math.exp(x) * math.cos(x)\n",
    "\n",
    "\n",
    "def f1(x):\n",
    "    return math.sqrt((2 + x) / (1 - x**2))\n",
    "\n",
    "print(integral(f1, 0, 1))"
   ]
  },
  {
   "cell_type": "markdown",
   "metadata": {},
   "source": [
    "### Romberg积分"
   ]
  },
  {
   "cell_type": "code",
   "execution_count": 25,
   "metadata": {},
   "outputs": [
    {
     "name": "stdout",
     "output_type": "stream",
     "text": [
      "romberg积分0.9999936732050991,       scipy库得到值0.9999999999999999\n"
     ]
    }
   ],
   "source": [
    "import math\n",
    "from scipy import integrate\n",
    "def romberg(f, a, b, h):\n",
    "    n = int((b-a) // h)\n",
    "    ans = 0\n",
    "    for i in range(0, 2*n+1):\n",
    "        f_i = f(a + h / 2  * i)\n",
    "        if i == 0 or i == 2*n:\n",
    "            ans += f_i\n",
    "        elif i & 1:\n",
    "            ans += 4 * f_i\n",
    "        else:\n",
    "            ans += 2 * f_i\n",
    "    return h / 6 * ans\n",
    "\n",
    "print(f\"romberg积分{romberg(math.sin, 0, math.pi/2, 0.00001)}, \\\n",
    "      scipy库得到值{integrate.quad(math.sin, 0, math.pi/2)[0]}\")"
   ]
  },
  {
   "cell_type": "code",
   "execution_count": null,
   "metadata": {},
   "outputs": [],
   "source": []
  }
 ],
 "metadata": {
  "kernelspec": {
   "display_name": "base",
   "language": "python",
   "name": "python3"
  },
  "language_info": {
   "codemirror_mode": {
    "name": "ipython",
    "version": 3
   },
   "file_extension": ".py",
   "mimetype": "text/x-python",
   "name": "python",
   "nbconvert_exporter": "python",
   "pygments_lexer": "ipython3",
   "version": "3.11.5"
  }
 },
 "nbformat": 4,
 "nbformat_minor": 2
}
