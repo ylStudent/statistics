{
 "cells": [
  {
   "cell_type": "code",
   "execution_count": 20,
   "metadata": {},
   "outputs": [
    {
     "name": "stdout",
     "output_type": "stream",
     "text": [
      "[-4.   4.5]\n"
     ]
    }
   ],
   "source": [
    "# method 1:\n",
    "import numpy as np\n",
    "\n",
    "A = np.array([[1, 2], [3, 4]])\n",
    "b = np.array([5, 6])\n",
    "\n",
    "x = np.linalg.inv(A).dot(b)\n",
    "print(x)\n"
   ]
  },
  {
   "cell_type": "code",
   "execution_count": 21,
   "metadata": {},
   "outputs": [
    {
     "name": "stdout",
     "output_type": "stream",
     "text": [
      "[-4.   4.5]\n"
     ]
    }
   ],
   "source": [
    "# method 2: Grammer \n",
    "def grammer(A, b):\n",
    "    n = len(b)\n",
    "    x = np.zeros(n)\n",
    "    d_A = np.linalg.det(A)\n",
    "    for i in range(n):\n",
    "        temp = A.copy()\n",
    "        temp[:,i] = b\n",
    "        x[i] = np.linalg.det(temp) / d_A\n",
    "    return x\n",
    "\n",
    "A = np.array([[1, 2], [3, 4]])\n",
    "b = np.array([5, 6])\n",
    "\n",
    "x = grammer(A, b)\n",
    "print(x)"
   ]
  },
  {
   "cell_type": "code",
   "execution_count": 22,
   "metadata": {},
   "outputs": [
    {
     "name": "stdout",
     "output_type": "stream",
     "text": [
      "yes and x =  [ 20.11111111 -18.22222222   2.11111111]\n",
      "[ 20.11111111 -18.22222222   2.11111111]\n"
     ]
    }
   ],
   "source": [
    "\"\"\"\n",
    "线性方程组求解\n",
    "\"\"\"\n",
    "import numpy as np\n",
    "def guass(A: np.ndarray, b: np.ndarray):\n",
    "    n = len(A)\n",
    "    for j in range(n-1):\n",
    "        for i in range(j+1, n):\n",
    "            mult = A[i][j] / A[j][j]\n",
    "\n",
    "            A[i,:] = A[i,:] - mult * A[j,:]\n",
    "            # 可以改为：\n",
    "            # A[i, j:] = A[i, j:] - mult * A[j, j:]\n",
    "            b[i] = b[i] - mult * b[j]\n",
    "    return A, b\n",
    "\n",
    "def guass_lu(A):\n",
    "    n = len(A)\n",
    "    L = np.eye(n)\n",
    "    \n",
    "    for j in range(n-1):\n",
    "        for i in range(j+1, n):\n",
    "            mult = A[i][j] / A[j][j]\n",
    "\n",
    "            A[i,j:] = A[i,j:] - mult * A[j,j:]\n",
    "\n",
    "            L[i][j] = mult\n",
    "    # return L, U\n",
    "    return L, A\n",
    "\n",
    "\n",
    "def lsolve(L, b):\n",
    "    n = len(L)\n",
    "    y = np.zeros(n)\n",
    "    for i in range(n):\n",
    "        y[i] = b[i] - np.dot(L[i, :i], y[:i])\n",
    "    \n",
    "    return y\n",
    "\n",
    "def usolve(L, U, b):\n",
    "    b = lsolve(L, b)\n",
    "\n",
    "    n = len(b)\n",
    "    x = np.zeros(n)\n",
    "    for i in range(n-1, -1, -1):\n",
    "        x[i] = (b[i] - np.dot(U[i,:i:-1], x[:i:-1])) / U[i, i]\n",
    "    return x\n",
    "\n",
    "def solve(A, b):\n",
    "    L, U = guass_lu(A)\n",
    "    \n",
    "    return usolve(L, U, b)\n",
    "\n",
    "\n",
    "A = np.array([[1, 2, 12], [4, 5, 6], [7, 8, 9]])\n",
    "b = np.array([9, 2, 14])\n",
    "x = solve(A.copy(), b.copy())\n",
    "    \n",
    "if sum(np.matmul(A, x) == b):\n",
    "    print(\"yes and x = \", x)\n",
    "else:\n",
    "    print(\"no\")\n",
    "    \n",
    "print(np.linalg.solve(A, b))"
   ]
  },
  {
   "cell_type": "markdown",
   "metadata": {},
   "source": [
    "#### 最小二乘法 QR分解"
   ]
  },
  {
   "cell_type": "code",
   "execution_count": 27,
   "metadata": {},
   "outputs": [
    {
     "name": "stdout",
     "output_type": "stream",
     "text": [
      "(5, 1) (5,)\n",
      "[[-14.72763477]]\n"
     ]
    }
   ],
   "source": [
    "# 首先对A执行QR分解\n",
    "# 即 A = QR，求解 QRx = b\n",
    "# 然后计算 Rx = Q^Tb\n",
    "import numpy as np\n",
    "import matplotlib.pyplot as plt\n",
    "def QR(A, b):\n",
    "    Q, R = np.linalg.qr(A)\n",
    "    print(Q.shape, b.shape)\n",
    "    x = np.matmul(np.transpose(Q), b.reshape(-1, 1))\n",
    "    return x\n",
    "A = np.array([[1], [3], [5], [10], [12]])\n",
    "b = np.array([5, 6, 7, 8, 9])\n",
    "x = QR(A, b)\n",
    "print(x)"
   ]
  },
  {
   "cell_type": "code",
   "execution_count": null,
   "metadata": {},
   "outputs": [],
   "source": []
  }
 ],
 "metadata": {
  "kernelspec": {
   "display_name": "base",
   "language": "python",
   "name": "python3"
  },
  "language_info": {
   "codemirror_mode": {
    "name": "ipython",
    "version": 3
   },
   "file_extension": ".py",
   "mimetype": "text/x-python",
   "name": "python",
   "nbconvert_exporter": "python",
   "pygments_lexer": "ipython3",
   "version": "3.11.5"
  }
 },
 "nbformat": 4,
 "nbformat_minor": 2
}
