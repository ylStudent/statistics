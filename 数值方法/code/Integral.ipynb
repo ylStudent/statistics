{
 "cells": [
  {
   "cell_type": "markdown",
   "metadata": {},
   "source": [
    "### 基于分段多项式插值的公式"
   ]
  },
  {
   "cell_type": "code",
   "execution_count": 7,
   "metadata": {},
   "outputs": [
    {
     "name": "stdout",
     "output_type": "stream",
     "text": [
      "2.52208843618528\n"
     ]
    }
   ],
   "source": [
    "import math\n",
    "def integral(f, a, b):\n",
    "    h = 1 / 10000\n",
    "    n = int((b - a) / h)\n",
    "    S = [f(a + i * h)  for i in range(n)]\n",
    "    S = S[0] + S[-1] + sum(S[1:-1]) * 2\n",
    "    return S * (h / 2)\n",
    "\n",
    "def f(x):\n",
    "    return math.exp(x) * math.cos(x)\n",
    "\n",
    "def f1(x):\n",
    "    return math.sqrt((2 + x) / (1 - x**2))\n",
    "print(integral(f1, 0, 1))"
   ]
  },
  {
   "cell_type": "markdown",
   "metadata": {},
   "source": [
    "### Guass公式"
   ]
  },
  {
   "cell_type": "code",
   "execution_count": 8,
   "metadata": {},
   "outputs": [
    {
     "name": "stdout",
     "output_type": "stream",
     "text": [
      "2.52208843618528\n"
     ]
    }
   ],
   "source": [
    "import math\n",
    "def gauss(f, n):\n",
    "    # 基于Gauss-Legendre节点和系数\n",
    "    # 在-1到1上时\n",
    "    return f(-1 / math.sqrt(3)) + f(1 / math.sqrt(3))\n",
    "def f(x):\n",
    "    return math.exp(x) * math.cos(x)\n",
    "\n",
    "\n",
    "def f1(x):\n",
    "    return math.sqrt((2 + x) / (1 - x**2))\n",
    "\n",
    "print(integral(f1, 0, 1))"
   ]
  },
  {
   "cell_type": "code",
   "execution_count": null,
   "metadata": {},
   "outputs": [],
   "source": []
  }
 ],
 "metadata": {
  "kernelspec": {
   "display_name": "base",
   "language": "python",
   "name": "python3"
  },
  "language_info": {
   "codemirror_mode": {
    "name": "ipython",
    "version": 3
   },
   "file_extension": ".py",
   "mimetype": "text/x-python",
   "name": "python",
   "nbconvert_exporter": "python",
   "pygments_lexer": "ipython3",
   "version": "3.11.5"
  }
 },
 "nbformat": 4,
 "nbformat_minor": 2
}
