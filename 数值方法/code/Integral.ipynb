{
 "cells": [
  {
   "cell_type": "markdown",
   "metadata": {},
   "source": [
    "### 基于分段多项式插值的公式"
   ]
  },
  {
   "cell_type": "code",
   "execution_count": 15,
   "metadata": {},
   "outputs": [
    {
     "name": "stdout",
     "output_type": "stream",
     "text": [
      "0.9998000099999983\n"
     ]
    }
   ],
   "source": [
    "import math\n",
    "def integral(f, a, b):\n",
    "    h = 1 / 10000\n",
    "    n = int((b - a) / h)\n",
    "    S = [f(a + i * h) * 2  for i in range(n)]\n",
    "    S = S[0] + S[-1] + sum(S[1:-1]) * 2\n",
    "    return S * (h / 2)\n",
    "\n",
    "def f(x):\n",
    "    return math.exp(x)\n",
    "\n",
    "print(integral(f, 0, 1))"
   ]
  },
  {
   "cell_type": "code",
   "execution_count": null,
   "metadata": {},
   "outputs": [],
   "source": []
  }
 ],
 "metadata": {
  "kernelspec": {
   "display_name": "base",
   "language": "python",
   "name": "python3"
  },
  "language_info": {
   "codemirror_mode": {
    "name": "ipython",
    "version": 3
   },
   "file_extension": ".py",
   "mimetype": "text/x-python",
   "name": "python",
   "nbconvert_exporter": "python",
   "pygments_lexer": "ipython3",
   "version": "3.11.5"
  }
 },
 "nbformat": 4,
 "nbformat_minor": 2
}
